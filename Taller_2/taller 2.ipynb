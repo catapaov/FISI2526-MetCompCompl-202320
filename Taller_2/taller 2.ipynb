{
 "cells": [
  {
   "cell_type": "code",
   "execution_count": 2,
   "metadata": {},
   "outputs": [],
   "source": [
    "import numpy as np\n",
    "import matplotlib.pyplot as plt"
   ]
  },
  {
   "cell_type": "markdown",
   "metadata": {},
   "source": []
  },
  {
   "cell_type": "markdown",
   "metadata": {},
   "source": [
    "PUNTO 1\n"
   ]
  },
  {
   "cell_type": "code",
   "execution_count": 3,
   "metadata": {},
   "outputs": [
    {
     "data": {
      "text/plain": [
       "[<matplotlib.lines.Line2D at 0x1ee8ac42390>]"
      ]
     },
     "execution_count": 3,
     "metadata": {},
     "output_type": "execute_result"
    },
    {
     "data": {
      "image/png": "[encoded data removed]",
      "text/plain": [
       "<Figure size 640x480 with 1 Axes>"
      ]
     },
     "metadata": {},
     "output_type": "display_data"
    }
   ],
   "source": [
    "def fun(x):\n",
    "    return np.pi*0.125**2*0.05*np.cos(3.5*x)*np.cos(2*np.pi*7*x)\n",
    "\n",
    "def fun2(x):\n",
    "    return derivadaCen(fun,x)*(-1/1.75e3)\n",
    "\n",
    "def derivadaCen(f,x,h=1e-6):\n",
    "    return (f(x+h) - f(x-h))/(2*h)\n",
    "x = np.linspace(0,2/7,1000)\n",
    "\n",
    "y = fun2(x)\n",
    "\n",
    "plt.plot(x,y)"
   ]
  },
  {
   "cell_type": "code",
   "execution_count": 4,
   "metadata": {},
   "outputs": [
    {
     "name": "stdout",
     "output_type": "stream",
     "text": [
      "0.07096973562994034\n",
      "0.1418773621788837\n",
      "0.2126227073232996\n"
     ]
    }
   ],
   "source": [
    "def newton(f,df,xn,itmax=1000,precision=1e-5):\n",
    "    \n",
    "    error = 1.\n",
    "    it = 0\n",
    "    \n",
    "    while error > precision and it < itmax:\n",
    "        try:\n",
    "            xn1 = xn - f(xn)/df(f,xn)\n",
    "            error = np.abs(f(xn)/df(f,xn))\n",
    "            \n",
    "        except ZeroDivisionError:\n",
    "            print('Division por cero')\n",
    "            \n",
    "        xn = xn1\n",
    "        it += 1\n",
    "    \n",
    "    return xn\n",
    "\n",
    "print(newton(fun2,derivadaCen,0.08))\n",
    "print(newton(fun2,derivadaCen,0.15))\n",
    "print(newton(fun2,derivadaCen,0.22))"
   ]
  },
  {
   "cell_type": "code",
   "execution_count": null,
   "metadata": {},
   "outputs": [],
   "source": []
  },
  {
   "cell_type": "markdown",
   "metadata": {},
   "source": [
    "PUNTO 3"
   ]
  },
  {
   "cell_type": "code",
   "execution_count": null,
   "metadata": {},
   "outputs": [],
   "source": [
    "\n",
    "import numpy as np\n",
    "\n",
    "import sympy as sym\n",
    "\n",
    "import math\n",
    "\n",
    "from matplotlib import pyplot as plt\n",
    "\n",
    "def GetLaguerre(n,x):\n",
    "    \n",
    "    L_0= sym.Number(1)    \n",
    "    L_1= 1-x\n",
    "    \n",
    "    if n==0:\n",
    "        \n",
    "        pol= L_0\n",
    "        \n",
    "    elif n==1:\n",
    "        \n",
    "        pol= L_1\n",
    "        \n",
    "    else:\n",
    "        \n",
    "        k=n-1\n",
    "        \n",
    "        L_= GetLaguerre(k,x)\n",
    "        L_1=GetLaguerre(k-1,x)\n",
    "        \n",
    "        pol= ((2*k+1-x)*L_-(k*L_1))/(k+1)\n",
    "\n",
    "        \n",
    "    return  sym.expand(pol,x)"
   ]
  },
  {
   "cell_type": "code",
   "execution_count": null,
   "metadata": {},
   "outputs": [],
   "source": [
    "def LaguerreDiff(Laguerre,x):\n",
    "\n",
    "    return sym.diff(Laguerre,x,1)\n",
    "\n",
    "\n",
    "#Función GetNewton del repositorio de la clase \n",
    "\n",
    "def GetNewton(f,df,xn,itmax=10000,precision=1e-14):\n",
    "    \n",
    "    error = 1.\n",
    "    it = 0\n",
    "    \n",
    "    while error >= precision and it < itmax:\n",
    "        \n",
    "        try:\n",
    "            \n",
    "            xn1 = xn - f(xn)/df(xn)\n",
    "            \n",
    "            error = np.abs(f(xn)/df(xn))\n",
    "            \n",
    "        except ZeroDivisionError:\n",
    "            print('Zero Division')\n",
    "            \n",
    "        xn = xn1\n",
    "        it += 1\n",
    "        \n",
    "    if it == itmax:\n",
    "        return False\n",
    "    else:\n",
    "        return xn\n",
    "\n",
    "\n",
    "def GetAllRootsGLag(n):\n",
    "    \n",
    "    x=sym.symbols('x')\n",
    "    raices= np.array([])\n",
    "    Laguerre= GetLaguerre(n,x) \n",
    "    Laguerredif= LaguerreDiff(Laguerre,x) \n",
    "    \n",
    "   \n",
    "    \n",
    "    para=n+((n-1)*(n**(1/2)))\n",
    "    \n",
    "    xns = np.linspace(0,para,500)\n",
    "    \n",
    "    for xn in xns:\n",
    "           \n",
    "        raiz=GetNewton( sym.lambdify(x,Laguerre,'numpy'),sym.lambdify(x,Laguerredif,'numpy'),xn)\n",
    "\n",
    "        if  type(raiz)!=bool and not np.any(np.isclose(raices, raiz, atol=1e-4)):\n",
    "\n",
    "            \n",
    "            raices= np.append(raices, raiz)\n",
    "            \n",
    "    raices.sort()\n",
    "    \n",
    "\n",
    "    if len(raices) != n:\n",
    "        ValueError('El número de raíces debe ser igual al n del polinomio.')\n",
    "   \n",
    "    return raices"
   ]
  },
  {
   "cell_type": "code",
   "execution_count": null,
   "metadata": {},
   "outputs": [],
   "source": [
    "def peso(n,x,p):\n",
    "\n",
    "    a= (n+1)**2\n",
    "    b=(sym.lambdify(p,GetLaguerre(n+1,p),'numpy')(x))**2\n",
    "     \n",
    "    return(x/(a*b))\n",
    "\n",
    "def GetWeightsGLag(n):\n",
    "    \n",
    "    x=sym.symbols('x')\n",
    "    raices= GetAllRootsGLag(n)\n",
    "    pesos=np.array([])\n",
    "    \n",
    "    for i in range(n):\n",
    "        pesos=np.append(pesos,peso(n,raices[i],x))\n",
    "    \n",
    "    return pesos"
   ]
  },
  {
   "cell_type": "code",
   "execution_count": null,
   "metadata": {},
   "outputs": [],
   "source": [
    "def GetHermite(n,x):\n",
    "\n",
    "    H_0= sym.Number(1)    \n",
    "    H_1= 2*x\n",
    "    \n",
    "    if n==0:\n",
    "        \n",
    "        pol= H_0\n",
    "        \n",
    "    elif n==1:\n",
    "        \n",
    "        pol= H_1\n",
    "        \n",
    "    else:\n",
    "        \n",
    "        k=n-1\n",
    "        \n",
    "        H_= GetHermite(k,x)\n",
    "        H_d=sym.diff(H_,x,1)\n",
    "        \n",
    "        pol= ((2*x*H_)-H_d)\n",
    "    \n",
    "    return  sym.expand(pol,x)"
   ]
  },
  {
   "cell_type": "code",
   "execution_count": null,
   "metadata": {},
   "outputs": [],
   "source": [
    "def GetAllRootsGHer(n):\n",
    "        \n",
    "        x=sym.symbols('x')\n",
    "        \n",
    "        raices= np.array([])\n",
    "        Hermite= GetHermite(n,x) \n",
    "        Hermitedif= LaguerreDiff(Hermite,x) \n",
    "        \n",
    "    \n",
    "        \n",
    "        para=((4+n)**(1/2))\n",
    "\n",
    "        \n",
    "        xns = np.linspace((-1)*para,para,100)\n",
    "        \n",
    "        for xn in xns:\n",
    "            \n",
    "            raiz=GetNewton( sym.lambdify(x,Hermite,'numpy'),sym.lambdify(x,Hermitedif,'numpy'),xn)\n",
    "            \n",
    "            \n",
    "    \n",
    "            if  type(raiz)!=bool and not np.any(np.isclose(raices, raiz, atol=1e-3)):\n",
    "    \n",
    "                \n",
    "                raices= np.append(raices, raiz)\n",
    "                \n",
    "        raices.sort()\n",
    "        \n",
    "    \n",
    "        if len(raices) != n:\n",
    "             ValueError('El número de raíces debe ser igual al n del polinomio.')\n",
    "    \n",
    "        return raices"
   ]
  },
  {
   "cell_type": "code",
   "execution_count": null,
   "metadata": {},
   "outputs": [],
   "source": [
    "def pesoH(n,x,p):\n",
    "\n",
    "    a= 2**(n-1)\n",
    "    b= math.factorial(n)\n",
    "    c=((np.pi)**(1/2))\n",
    "    d=n**2\n",
    "    e= (sym.lambdify(p,GetHermite(n-1,p),'numpy')(x))**2\n",
    "     \n",
    "    return((a*b*c)/(d*e))\n",
    "\n",
    "def GetWeightsGHer(n):\n",
    "        \n",
    "        x=sym.symbols('x')\n",
    "        raices= GetAllRootsGHer(n)\n",
    "        pesos=np.array([])\n",
    "        \n",
    "        for i in range(n):\n",
    "            pesos=np.append(pesos,pesoH(n,raices[i],x))\n",
    "        \n",
    "        return pesos"
   ]
  },
  {
   "cell_type": "code",
   "execution_count": null,
   "metadata": {},
   "outputs": [],
   "source": [
    "def GaussLaguerre(n,f):\n",
    "\n",
    "    sum=0\n",
    "\n",
    "    pesos= GetWeightsGLag(n)\n",
    "\n",
    "    raices= GetAllRootsGLag(n)\n",
    "\n",
    "    for i in range(n):\n",
    "\n",
    "       sum+=(pesos[i]*f(raices[i]))\n",
    "\n",
    "    return sum\n",
    "\n",
    "\n",
    "def MaxwellProb(v):\n",
    "    return (2/(np.pi**(1/2)))*(v**(1/2))\n",
    "\n",
    "\n",
    "print(GaussLaguerre(10,lambda x: MaxwellProb(x)))"
   ]
  },
  {
   "cell_type": "code",
   "execution_count": null,
   "metadata": {},
   "outputs": [],
   "source": [
    "def Maxwell(v,T):\n",
    "\n",
    "    R=8.314\n",
    "    a= (1/(2*np.pi*T*R))**(3/2)\n",
    "    b= (np.exp(((-1)*(v**2))/(2*T*R)))\n",
    "    return(4*np.pi*a*(v**2)*b)\n",
    "\n",
    "\n",
    "temperaturas= np.linspace(300,3000,5)\n",
    "velocidades= np.linspace(1,500)\n",
    "\n",
    "\n",
    "def graficar_y(velocidades,T):\n",
    "    maxwelss= np.array([])\n",
    "    for i in velocidades:\n",
    "        maxwelss=np.append(maxwelss,Maxwell(i,T))\n",
    "\n",
    "    return maxwelss\n",
    "\n",
    "for j in temperaturas:\n",
    "\n",
    "    plt.figure(figsize=(5, 3))\n",
    "    plt.plot(velocidades, graficar_y(velocidades,j))\n",
    "    plt.xlabel('Velocidades (m/s)')\n",
    "    plt.ylabel('Probabilidad')\n",
    "    plt.title('Distribución de probabilidad \\n velocidades de Maxwell \\n para T= '+str(j)+'K')\n",
    "\n",
    "    plt.show()\n",
    "\n"
   ]
  },
  {
   "cell_type": "code",
   "execution_count": null,
   "metadata": {},
   "outputs": [],
   "source": [
    "temperaturas= np.linspace(300,3000,10)\n",
    "\n",
    "def Maxwellv(v,T):\n",
    "\n",
    "    \n",
    "    a= 2/(np.pi**(1/2))\n",
    "    b=(2*T)**(1/2)\n",
    "\n",
    "    return a*b*v\n",
    "\n",
    "\n",
    "def velocidad_promedio(T):\n",
    "    return GaussLaguerre(5, lambda v: Maxwellv(v,T))\n",
    "\n",
    "def graficar_yp(T):\n",
    "    maxwelss= np.array([])\n",
    "    for i in T:\n",
    "        maxwelss=np.append(maxwelss,velocidad_promedio(i))\n",
    "\n",
    "    return maxwelss\n",
    "\n",
    "\n",
    "plt.figure(figsize=(5, 3))\n",
    "plt.plot(temperaturas, graficar_yp(temperaturas))\n",
    "plt.yscale('log')\n",
    "plt.xlabel('Temperatura (K)')\n",
    "plt.ylabel('Velocidades (m/s)')\n",
    "plt.title('Velocidad promedio vs temperatura')\n",
    "\n",
    "plt.show()\n",
    "\n",
    "def prueba1(T):\n",
    "\n",
    "    maxwelss= np.array([])\n",
    "    \n",
    "    for i in T:\n",
    "        f=((8*i)/(np.pi))**(1/2)\n",
    "        maxwelss=np.append(maxwelss,f)\n",
    "\n",
    "    return maxwelss\n",
    "\n",
    "\n",
    "\n",
    "plt.figure(figsize=(5, 3))\n",
    "plt.plot(temperaturas, prueba1(temperaturas))\n",
    "plt.yscale('log')\n",
    "plt.xlabel('Temperatura (K)')\n",
    "plt.ylabel('Velocidades (m/s)')\n",
    "plt.title('Velocidad promedio vs temperatura \\n de la prueba 1')\n",
    "\n",
    "plt.show()\n"
   ]
  },
  {
   "cell_type": "code",
   "execution_count": null,
   "metadata": {},
   "outputs": [],
   "source": [
    "temperaturas= np.linspace(300,3000,10)\n",
    "\n",
    "\n",
    "def Maxwellvrms(v,T):\n",
    "\n",
    "    a=4*(np.pi**(-1/2))\n",
    "    b=v**(3/2)\n",
    "    return (a*T*b)\n",
    "\n",
    "\n",
    "def velocidad_rms(T):\n",
    "    return (GaussLaguerre(5, lambda v: Maxwellvrms(v,T)))**(1/2)\n",
    "\n",
    "\n",
    "def graficar_yrms(T):\n",
    "    maxwelss= np.array([])\n",
    "    for i in T:\n",
    "        maxwelss=np.append(maxwelss,velocidad_rms(i))\n",
    "\n",
    "    return maxwelss\n",
    "\n",
    "plt.figure(figsize=(5, 3))\n",
    "plt.plot(temperaturas, graficar_yrms(temperaturas))\n",
    "plt.yscale('log')\n",
    "plt.xlabel('Temperatura (K)')\n",
    "plt.ylabel('Velocidades (m/s)')\n",
    "plt.title('Velocidad media cuadrática vs temperatura')\n",
    "\n",
    "plt.show()\n",
    "\n",
    "\n",
    "def prueba2(T):\n",
    "    \n",
    "        maxwelss= np.array([])\n",
    "        \n",
    "        for i in T:\n",
    "            f=(3*i)**(1/2)\n",
    "            maxwelss=np.append(maxwelss,f)\n",
    "    \n",
    "        return maxwelss\n",
    "\n",
    "\n",
    "\n",
    "\n",
    "plt.figure(figsize=(5, 3))\n",
    "plt.plot(temperaturas, prueba2(temperaturas))\n",
    "plt.yscale('log')\n",
    "plt.xlabel('Temperatura (K)')\n",
    "plt.ylabel('Velocidades (m/s)')\n",
    "plt.title('Velocidad media cuadrática vs temperatura \\n de la prueba 2')\n",
    "\n",
    "plt.show()"
   ]
  },
  {
   "cell_type": "markdown",
   "metadata": {},
   "source": [
    "PUNTO 4"
   ]
  },
  {
   "cell_type": "code",
   "execution_count": 5,
   "metadata": {},
   "outputs": [
    {
     "data": {
      "text/plain": [
       "[<matplotlib.lines.Line2D at 0x1ee8ac96b10>]"
      ]
     },
     "execution_count": 5,
     "metadata": {},
     "output_type": "execute_result"
    },
    {
     "data": {
      "image/png": "[encoded data removed]",
      "text/plain": [
       "<Figure size 640x480 with 1 Axes>"
      ]
     },
     "metadata": {},
     "output_type": "display_data"
    }
   ],
   "source": [
    "a = 0\n",
    "b = np.pi\n",
    "real =0.52161 \n",
    "error = []\n",
    "enes = []\n",
    "\n",
    "def fun(x):\n",
    "    return (np.exp(-x)*np.sin(x))\n",
    "\n",
    "for i in range(10,100000,1000):\n",
    "    x = np.random.uniform(a,b,i)\n",
    "    y = fun(x)\n",
    "    valor = (b-a)*sum(y)/i\n",
    "    dif = np.abs(real-valor)/real\n",
    "    error.append(dif)\n",
    "    enes.append(i)\n",
    "\n",
    "plt.plot(enes,error)"
   ]
  },
  {
   "cell_type": "code",
   "execution_count": 7,
   "metadata": {},
   "outputs": [
    {
     "data": {
      "text/plain": [
       "4.737351353875785"
      ]
     },
     "execution_count": 7,
     "metadata": {},
     "output_type": "execute_result"
    }
   ],
   "source": [
    "#4.2\n",
    "\n",
    "# se pasará a esfericas la integral \n",
    "\n",
    "N = 100000\n",
    "\n",
    "def fun1(o):\n",
    "    return o/o\n",
    "def fun2(phi):\n",
    "    return np.sin(phi)\n",
    "def fun3(x):\n",
    "    return np.sin(x**2)*np.exp(x**2)*x**2\n",
    "\n",
    "\n",
    "x1 = np.random.uniform(0.0000001,2*np.pi,N)\n",
    "x2 = np.random.uniform(0,np.pi,N)\n",
    "x3 = np.random.uniform(0,1,N)\n",
    "y1,y2,y3 = fun1(x1), fun2(x2), fun3(x3)\n",
    "\n",
    "\n",
    "valor = ((2*np.pi)*sum(y1)/N)*((np.pi)*sum(y2)/N)*((1)*sum(y3)/N)\n",
    "\n",
    "valor"
   ]
  }
 ],
 "metadata": {
  "kernelspec": {
   "display_name": "Python 3",
   "language": "python",
   "name": "python3"
  },
  "language_info": {
   "codemirror_mode": {
    "name": "ipython",
    "version": 3
   },
   "file_extension": ".py",
   "mimetype": "text/x-python",
   "name": "python",
   "nbconvert_exporter": "python",
   "pygments_lexer": "ipython3",
   "version": "3.11.2"
  },
  "orig_nbformat": 4
 },
 "nbformat": 4,
 "nbformat_minor": 2
}
